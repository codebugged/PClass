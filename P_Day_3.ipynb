{
  "nbformat": 4,
  "nbformat_minor": 0,
  "metadata": {
    "colab": {
      "name": "P-Day_3.ipynb",
      "provenance": []
    },
    "kernelspec": {
      "name": "python3",
      "display_name": "Python 3"
    },
    "language_info": {
      "name": "python"
    }
  },
  "cells": [
    {
      "cell_type": "code",
      "metadata": {
        "colab": {
          "base_uri": "https://localhost:8080/"
        },
        "id": "Zrntpwt9a87m",
        "outputId": "24e0d4fa-ebb4-4553-b201-4c1a2a91c910"
      },
      "source": [
        "import random\n",
        "n = random.random()\n",
        "print(n)"
      ],
      "execution_count": 1,
      "outputs": [
        {
          "output_type": "stream",
          "name": "stdout",
          "text": [
            "0.8150505312176862\n"
          ]
        }
      ]
    },
    {
      "cell_type": "code",
      "metadata": {
        "colab": {
          "base_uri": "https://localhost:8080/"
        },
        "id": "AF8one1sb3PS",
        "outputId": "05f80af8-7f86-4e94-a868-2ca51dba073a"
      },
      "source": [
        "n = random.randint(0,22)\n",
        "print(n)"
      ],
      "execution_count": 4,
      "outputs": [
        {
          "output_type": "stream",
          "name": "stdout",
          "text": [
            "9\n"
          ]
        }
      ]
    },
    {
      "cell_type": "code",
      "metadata": {
        "id": "Jxg3uJa2cDSA"
      },
      "source": [
        "lst = [1,2,3]"
      ],
      "execution_count": 5,
      "outputs": []
    },
    {
      "cell_type": "code",
      "metadata": {
        "id": "KT7l_E7RcKmY"
      },
      "source": [
        "lst.append(5)"
      ],
      "execution_count": 6,
      "outputs": []
    },
    {
      "cell_type": "code",
      "metadata": {
        "colab": {
          "base_uri": "https://localhost:8080/"
        },
        "id": "-NWOveqpcMXl",
        "outputId": "1bf2a618-af1c-40c7-8e67-4480f8434131"
      },
      "source": [
        "lst"
      ],
      "execution_count": 7,
      "outputs": [
        {
          "output_type": "execute_result",
          "data": {
            "text/plain": [
              "[1, 2, 3, 5]"
            ]
          },
          "metadata": {},
          "execution_count": 7
        }
      ]
    },
    {
      "cell_type": "code",
      "metadata": {
        "id": "jog6_cbscMxw"
      },
      "source": [
        "randomlist = []\n",
        "for i in range(0,5):\n",
        "  n = random.randint(1,30)\n",
        "  randomlist.append(n)"
      ],
      "execution_count": 12,
      "outputs": []
    },
    {
      "cell_type": "code",
      "metadata": {
        "colab": {
          "base_uri": "https://localhost:8080/"
        },
        "id": "AD_UTj8ocle3",
        "outputId": "aaf16e0c-b80e-4d4c-8824-1a6c91cf7b89"
      },
      "source": [
        "randomlist"
      ],
      "execution_count": 13,
      "outputs": [
        {
          "output_type": "execute_result",
          "data": {
            "text/plain": [
              "[6, 9, 9, 13, 19]"
            ]
          },
          "metadata": {},
          "execution_count": 13
        }
      ]
    },
    {
      "cell_type": "code",
      "metadata": {
        "id": "HTG14IZHcm4J"
      },
      "source": [
        "import math"
      ],
      "execution_count": 22,
      "outputs": []
    },
    {
      "cell_type": "code",
      "metadata": {
        "colab": {
          "base_uri": "https://localhost:8080/"
        },
        "id": "cijjv4lsdplJ",
        "outputId": "ca3c68ce-cec6-4404-d7c0-3c80c7869262"
      },
      "source": [
        "n = 5\n",
        "k = 2\n",
        "c = math.factorial(n)\n",
        "print(c)"
      ],
      "execution_count": 26,
      "outputs": [
        {
          "output_type": "stream",
          "name": "stdout",
          "text": [
            "120\n"
          ]
        }
      ]
    },
    {
      "cell_type": "code",
      "metadata": {
        "id": "nM_-p8XVfGLx"
      },
      "source": [
        "k = math.gcd(5,6)"
      ],
      "execution_count": 28,
      "outputs": []
    },
    {
      "cell_type": "code",
      "metadata": {
        "colab": {
          "base_uri": "https://localhost:8080/"
        },
        "id": "wRW17siGfq9x",
        "outputId": "aa0c042a-1d88-44f5-8000-ceec7b621777"
      },
      "source": [
        "k"
      ],
      "execution_count": 29,
      "outputs": [
        {
          "output_type": "execute_result",
          "data": {
            "text/plain": [
              "1"
            ]
          },
          "metadata": {},
          "execution_count": 29
        }
      ]
    },
    {
      "cell_type": "code",
      "metadata": {
        "colab": {
          "base_uri": "https://localhost:8080/"
        },
        "id": "YyoXw6UDfvZi",
        "outputId": "fc8fb680-3bee-41ec-b2ae-8583b1eb6be4"
      },
      "source": [
        "x = 22\n",
        "sinx = math.sin(x)\n",
        "print(sinx)"
      ],
      "execution_count": 30,
      "outputs": [
        {
          "output_type": "stream",
          "name": "stdout",
          "text": [
            "-0.008851309290403876\n"
          ]
        }
      ]
    },
    {
      "cell_type": "code",
      "metadata": {
        "id": "v09EkxQuhKQV"
      },
      "source": [
        "import cmath"
      ],
      "execution_count": 33,
      "outputs": []
    },
    {
      "cell_type": "code",
      "metadata": {
        "id": "IxISWoGhgV_7"
      },
      "source": [
        "f = cmath.sqrt(complex(-2, 10))"
      ],
      "execution_count": 43,
      "outputs": []
    },
    {
      "cell_type": "code",
      "metadata": {
        "colab": {
          "base_uri": "https://localhost:8080/"
        },
        "id": "_T_dYN_ShI1B",
        "outputId": "60136fad-29f6-4d60-f8f6-d5cd9bf413f0"
      },
      "source": [
        "f"
      ],
      "execution_count": 44,
      "outputs": [
        {
          "output_type": "execute_result",
          "data": {
            "text/plain": [
              "(2.0246035447940876+2.4696193053976527j)"
            ]
          },
          "metadata": {},
          "execution_count": 44
        }
      ]
    },
    {
      "cell_type": "code",
      "metadata": {
        "id": "djxWXciGhJJy"
      },
      "source": [
        "def my_function(*n):\n",
        "  sum=0\n",
        "  for i in n:\n",
        "    sum+=i\n",
        "  print(\"The sum of digit is \",sum)"
      ],
      "execution_count": 51,
      "outputs": []
    },
    {
      "cell_type": "code",
      "metadata": {
        "colab": {
          "base_uri": "https://localhost:8080/"
        },
        "id": "lCoXC7YCiBCV",
        "outputId": "f8ea91bf-a84d-494f-dea7-652f62707d69"
      },
      "source": [
        "my_function(5,6,8,9,5,5,2)"
      ],
      "execution_count": 52,
      "outputs": [
        {
          "output_type": "stream",
          "name": "stdout",
          "text": [
            "The sum of digit is  40\n"
          ]
        }
      ]
    },
    {
      "cell_type": "markdown",
      "metadata": {
        "id": "TBXRO5JCiyue"
      },
      "source": [
        "## Circle Problem"
      ]
    },
    {
      "cell_type": "code",
      "metadata": {
        "id": "N9D_N31HiEYF"
      },
      "source": [
        "xlst = []\n",
        "ylst = []\n",
        "for i in range(0,10):\n",
        "  x = random.randint(0,20)\n",
        "  y = random.randint(0,20)\n",
        "  xlst.append(x)\n",
        "  ylst.append(y)"
      ],
      "execution_count": 53,
      "outputs": []
    },
    {
      "cell_type": "code",
      "metadata": {
        "colab": {
          "base_uri": "https://localhost:8080/"
        },
        "id": "EifTehfKkhI_",
        "outputId": "e1aaeeaa-a9fc-48a0-edaa-878fc0661a56"
      },
      "source": [
        "print(xlst)\n",
        "print(ylst)"
      ],
      "execution_count": 59,
      "outputs": [
        {
          "output_type": "stream",
          "name": "stdout",
          "text": [
            "[16, 17, -5, 4, 19, -1, -1, -14, 17, 3]\n",
            "[-1, -5, -1, -20, -19, -17, -19, 19, 6, 17]\n"
          ]
        }
      ]
    },
    {
      "cell_type": "code",
      "metadata": {
        "id": "WxB5iuYkjPnA"
      },
      "source": [
        "def checkrange(r):\n",
        "  for i in range(10):\n",
        "    x,y = xlst[i], ylst[i]\n",
        "    s = x**2+y**2-r**2\n",
        "    if(s>0):\n",
        "      print(\"It is lying outside the circle\")\n",
        "    if(s==0):\n",
        "      print(\"It is lying on the circle\")\n",
        "    if(s<0):\n",
        "      print(\"It is lying inside the circle\")"
      ],
      "execution_count": 62,
      "outputs": []
    },
    {
      "cell_type": "code",
      "metadata": {
        "colab": {
          "base_uri": "https://localhost:8080/"
        },
        "id": "E7Ul728OkUFn",
        "outputId": "7d3ae0fb-5f43-460f-a9c0-0da7a7dfc518"
      },
      "source": [
        "r=int(input(\"Enter the radius : \"))\n",
        "a=2\n",
        "i=0\n",
        "while(i<20):\n",
        "  checkrange((a**i)*r)\n",
        "  print('****************************')\n",
        "  i=i+1"
      ],
      "execution_count": 64,
      "outputs": [
        {
          "output_type": "stream",
          "name": "stdout",
          "text": [
            "Enter the radius : 5\n",
            "It is lying outside the circle\n",
            "It is lying outside the circle\n",
            "It is lying outside the circle\n",
            "It is lying outside the circle\n",
            "It is lying outside the circle\n",
            "It is lying outside the circle\n",
            "It is lying outside the circle\n",
            "It is lying outside the circle\n",
            "It is lying outside the circle\n",
            "It is lying outside the circle\n",
            "****************************\n",
            "It is lying outside the circle\n",
            "It is lying outside the circle\n",
            "It is lying inside the circle\n",
            "It is lying outside the circle\n",
            "It is lying outside the circle\n",
            "It is lying outside the circle\n",
            "It is lying outside the circle\n",
            "It is lying outside the circle\n",
            "It is lying outside the circle\n",
            "It is lying outside the circle\n",
            "****************************\n",
            "It is lying inside the circle\n",
            "It is lying inside the circle\n",
            "It is lying inside the circle\n",
            "It is lying outside the circle\n",
            "It is lying outside the circle\n",
            "It is lying inside the circle\n",
            "It is lying inside the circle\n",
            "It is lying outside the circle\n",
            "It is lying inside the circle\n",
            "It is lying inside the circle\n",
            "****************************\n",
            "It is lying inside the circle\n",
            "It is lying inside the circle\n",
            "It is lying inside the circle\n",
            "It is lying inside the circle\n",
            "It is lying inside the circle\n",
            "It is lying inside the circle\n",
            "It is lying inside the circle\n",
            "It is lying inside the circle\n",
            "It is lying inside the circle\n",
            "It is lying inside the circle\n",
            "****************************\n",
            "It is lying inside the circle\n",
            "It is lying inside the circle\n",
            "It is lying inside the circle\n",
            "It is lying inside the circle\n",
            "It is lying inside the circle\n",
            "It is lying inside the circle\n",
            "It is lying inside the circle\n",
            "It is lying inside the circle\n",
            "It is lying inside the circle\n",
            "It is lying inside the circle\n",
            "****************************\n",
            "It is lying inside the circle\n",
            "It is lying inside the circle\n",
            "It is lying inside the circle\n",
            "It is lying inside the circle\n",
            "It is lying inside the circle\n",
            "It is lying inside the circle\n",
            "It is lying inside the circle\n",
            "It is lying inside the circle\n",
            "It is lying inside the circle\n",
            "It is lying inside the circle\n",
            "****************************\n",
            "It is lying inside the circle\n",
            "It is lying inside the circle\n",
            "It is lying inside the circle\n",
            "It is lying inside the circle\n",
            "It is lying inside the circle\n",
            "It is lying inside the circle\n",
            "It is lying inside the circle\n",
            "It is lying inside the circle\n",
            "It is lying inside the circle\n",
            "It is lying inside the circle\n",
            "****************************\n",
            "It is lying inside the circle\n",
            "It is lying inside the circle\n",
            "It is lying inside the circle\n",
            "It is lying inside the circle\n",
            "It is lying inside the circle\n",
            "It is lying inside the circle\n",
            "It is lying inside the circle\n",
            "It is lying inside the circle\n",
            "It is lying inside the circle\n",
            "It is lying inside the circle\n",
            "****************************\n",
            "It is lying inside the circle\n",
            "It is lying inside the circle\n",
            "It is lying inside the circle\n",
            "It is lying inside the circle\n",
            "It is lying inside the circle\n",
            "It is lying inside the circle\n",
            "It is lying inside the circle\n",
            "It is lying inside the circle\n",
            "It is lying inside the circle\n",
            "It is lying inside the circle\n",
            "****************************\n",
            "It is lying inside the circle\n",
            "It is lying inside the circle\n",
            "It is lying inside the circle\n",
            "It is lying inside the circle\n",
            "It is lying inside the circle\n",
            "It is lying inside the circle\n",
            "It is lying inside the circle\n",
            "It is lying inside the circle\n",
            "It is lying inside the circle\n",
            "It is lying inside the circle\n",
            "****************************\n",
            "It is lying inside the circle\n",
            "It is lying inside the circle\n",
            "It is lying inside the circle\n",
            "It is lying inside the circle\n",
            "It is lying inside the circle\n",
            "It is lying inside the circle\n",
            "It is lying inside the circle\n",
            "It is lying inside the circle\n",
            "It is lying inside the circle\n",
            "It is lying inside the circle\n",
            "****************************\n",
            "It is lying inside the circle\n",
            "It is lying inside the circle\n",
            "It is lying inside the circle\n",
            "It is lying inside the circle\n",
            "It is lying inside the circle\n",
            "It is lying inside the circle\n",
            "It is lying inside the circle\n",
            "It is lying inside the circle\n",
            "It is lying inside the circle\n",
            "It is lying inside the circle\n",
            "****************************\n",
            "It is lying inside the circle\n",
            "It is lying inside the circle\n",
            "It is lying inside the circle\n",
            "It is lying inside the circle\n",
            "It is lying inside the circle\n",
            "It is lying inside the circle\n",
            "It is lying inside the circle\n",
            "It is lying inside the circle\n",
            "It is lying inside the circle\n",
            "It is lying inside the circle\n",
            "****************************\n",
            "It is lying inside the circle\n",
            "It is lying inside the circle\n",
            "It is lying inside the circle\n",
            "It is lying inside the circle\n",
            "It is lying inside the circle\n",
            "It is lying inside the circle\n",
            "It is lying inside the circle\n",
            "It is lying inside the circle\n",
            "It is lying inside the circle\n",
            "It is lying inside the circle\n",
            "****************************\n",
            "It is lying inside the circle\n",
            "It is lying inside the circle\n",
            "It is lying inside the circle\n",
            "It is lying inside the circle\n",
            "It is lying inside the circle\n",
            "It is lying inside the circle\n",
            "It is lying inside the circle\n",
            "It is lying inside the circle\n",
            "It is lying inside the circle\n",
            "It is lying inside the circle\n",
            "****************************\n",
            "It is lying inside the circle\n",
            "It is lying inside the circle\n",
            "It is lying inside the circle\n",
            "It is lying inside the circle\n",
            "It is lying inside the circle\n",
            "It is lying inside the circle\n",
            "It is lying inside the circle\n",
            "It is lying inside the circle\n",
            "It is lying inside the circle\n",
            "It is lying inside the circle\n",
            "****************************\n",
            "It is lying inside the circle\n",
            "It is lying inside the circle\n",
            "It is lying inside the circle\n",
            "It is lying inside the circle\n",
            "It is lying inside the circle\n",
            "It is lying inside the circle\n",
            "It is lying inside the circle\n",
            "It is lying inside the circle\n",
            "It is lying inside the circle\n",
            "It is lying inside the circle\n",
            "****************************\n",
            "It is lying inside the circle\n",
            "It is lying inside the circle\n",
            "It is lying inside the circle\n",
            "It is lying inside the circle\n",
            "It is lying inside the circle\n",
            "It is lying inside the circle\n",
            "It is lying inside the circle\n",
            "It is lying inside the circle\n",
            "It is lying inside the circle\n",
            "It is lying inside the circle\n",
            "****************************\n",
            "It is lying inside the circle\n",
            "It is lying inside the circle\n",
            "It is lying inside the circle\n",
            "It is lying inside the circle\n",
            "It is lying inside the circle\n",
            "It is lying inside the circle\n",
            "It is lying inside the circle\n",
            "It is lying inside the circle\n",
            "It is lying inside the circle\n",
            "It is lying inside the circle\n",
            "****************************\n",
            "It is lying inside the circle\n",
            "It is lying inside the circle\n",
            "It is lying inside the circle\n",
            "It is lying inside the circle\n",
            "It is lying inside the circle\n",
            "It is lying inside the circle\n",
            "It is lying inside the circle\n",
            "It is lying inside the circle\n",
            "It is lying inside the circle\n",
            "It is lying inside the circle\n",
            "****************************\n"
          ]
        }
      ]
    },
    {
      "cell_type": "code",
      "metadata": {
        "id": "M9p8zGVDl0a5"
      },
      "source": [
        ""
      ],
      "execution_count": null,
      "outputs": []
    }
  ]
}