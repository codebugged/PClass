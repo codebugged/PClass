{
  "nbformat": 4,
  "nbformat_minor": 0,
  "metadata": {
    "colab": {
      "name": "P_Class_5.ipynb",
      "provenance": []
    },
    "kernelspec": {
      "name": "python3",
      "display_name": "Python 3"
    },
    "language_info": {
      "name": "python"
    }
  },
  "cells": [
    {
      "cell_type": "code",
      "metadata": {
        "id": "DcwQxzRsJHa0"
      },
      "source": [
        "import numpy as np"
      ],
      "execution_count": 4,
      "outputs": []
    },
    {
      "cell_type": "code",
      "metadata": {
        "id": "rROebqVhKko_"
      },
      "source": [
        "m = np.array([[1,2],\n",
        "             [2,3]])"
      ],
      "execution_count": 5,
      "outputs": []
    },
    {
      "cell_type": "code",
      "metadata": {
        "colab": {
          "base_uri": "https://localhost:8080/"
        },
        "id": "8TK96T1hKy79",
        "outputId": "e6d837e5-5b89-4488-855b-c41f31565f49"
      },
      "source": [
        "print(m)"
      ],
      "execution_count": 6,
      "outputs": [
        {
          "output_type": "stream",
          "name": "stdout",
          "text": [
            "[[1 2]\n",
            " [2 3]]\n"
          ]
        }
      ]
    },
    {
      "cell_type": "code",
      "metadata": {
        "id": "gpa9sCLVK2m2"
      },
      "source": [
        "#w - eigrn value\n",
        "#v - eigen vector\n",
        "w, v = np.linalg.eig(m)"
      ],
      "execution_count": 7,
      "outputs": []
    },
    {
      "cell_type": "code",
      "metadata": {
        "colab": {
          "base_uri": "https://localhost:8080/"
        },
        "id": "PjQza3blLEbU",
        "outputId": "90f1bce1-44b2-4296-abd1-c5c946e0fc22"
      },
      "source": [
        "print(\"Eigen values is : \", w)\n",
        "print(\"Right Eigen Vector is : \", v)"
      ],
      "execution_count": 9,
      "outputs": [
        {
          "output_type": "stream",
          "name": "stdout",
          "text": [
            "Eigen values is :  [-0.23606798  4.23606798]\n",
            "Right Eigen Vector is :  [[-0.85065081 -0.52573111]\n",
            " [ 0.52573111 -0.85065081]]\n"
          ]
        }
      ]
    },
    {
      "cell_type": "code",
      "metadata": {
        "colab": {
          "base_uri": "https://localhost:8080/"
        },
        "id": "a4uD0d10LMWD",
        "outputId": "275765b5-bbff-432e-b7c7-52b8d5695a35"
      },
      "source": [
        "import numpy as np\n",
        "  \n",
        "R = int(input(\"Enter the number of rows:\"))\n",
        "C = int(input(\"Enter the number of columns:\"))\n",
        "  \n",
        "  \n",
        "print(\"Enter the entries in a single line (separated by space): \")\n",
        "  \n",
        "# User input of entries in a \n",
        "# single line separated by space\n",
        "entries = list(map(int, input().split()))\n",
        "  \n",
        "# For printing the matrix\n",
        "matrix = np.array(entries).reshape(R, C)\n",
        "print(matrix)"
      ],
      "execution_count": 11,
      "outputs": [
        {
          "output_type": "stream",
          "name": "stdout",
          "text": [
            "Enter the number of rows:2\n",
            "Enter the number of columns:2\n",
            "Enter the entries in a single line (separated by space): \n",
            "1 2 3 4\n",
            "[[1 2]\n",
            " [3 4]]\n"
          ]
        }
      ]
    },
    {
      "cell_type": "markdown",
      "metadata": {
        "id": "lEwy9vWSM81b"
      },
      "source": [
        "model : Function name that returns derivative values at requested y and t\n",
        "\n",
        "y0 : Initial conditions of the differential states\n",
        "\n",
        "t : Time points at which solution should be reported. \n",
        "\n",
        "y = odeint(model, y0, t)"
      ]
    },
    {
      "cell_type": "code",
      "metadata": {
        "id": "FL_wa86DLuL4"
      },
      "source": [
        "from scipy.integrate import odeint\n",
        "import numpy as np\n",
        "import matplotlib.pyplot as plt"
      ],
      "execution_count": 12,
      "outputs": []
    },
    {
      "cell_type": "code",
      "metadata": {
        "id": "99n9Ahn1NiAr"
      },
      "source": [
        "def model(y,t):\n",
        "  k=0.3\n",
        "  dydt = -k*y\n",
        "  return dydt"
      ],
      "execution_count": 13,
      "outputs": []
    },
    {
      "cell_type": "code",
      "metadata": {
        "id": "tyJ0P_5wNq9v"
      },
      "source": [
        "y0 = 5"
      ],
      "execution_count": 14,
      "outputs": []
    },
    {
      "cell_type": "code",
      "metadata": {
        "id": "DxGjr2ntNsk1"
      },
      "source": [
        "t = np.linspace(0,20)"
      ],
      "execution_count": 15,
      "outputs": []
    },
    {
      "cell_type": "code",
      "metadata": {
        "id": "_23prxwBNvXH"
      },
      "source": [
        "y = odeint(model, y0, t)"
      ],
      "execution_count": 16,
      "outputs": []
    },
    {
      "cell_type": "code",
      "metadata": {
        "colab": {
          "base_uri": "https://localhost:8080/",
          "height": 279
        },
        "id": "82q24N4_NyrX",
        "outputId": "8a1fd1d4-d654-43c4-e7a1-421cb749b86f"
      },
      "source": [
        "plt.plot(t,y)\n",
        "plt.xlabel('time')\n",
        "plt.ylabel('y(t)')\n",
        "plt.show()"
      ],
      "execution_count": 18,
      "outputs": [
        {
          "output_type": "display_data",
          "data": {
            "image/png": "[encoded data removed]",
            "text/plain": [
              "<Figure size 432x288 with 1 Axes>"
            ]
          },
          "metadata": {
            "needs_background": "light"
          }
        }
      ]
    },
    {
      "cell_type": "code",
      "metadata": {
        "id": "yl5bwfaPOEZl"
      },
      "source": [
        "def model(y,t):\n",
        "  dydt = y*y + 3*y + 3\n",
        "  return dydt"
      ],
      "execution_count": 20,
      "outputs": []
    },
    {
      "cell_type": "code",
      "metadata": {
        "id": "uNCWsX-eO2Wi"
      },
      "source": [
        "y0 = 5"
      ],
      "execution_count": 21,
      "outputs": []
    },
    {
      "cell_type": "code",
      "metadata": {
        "id": "I0FG6_z7O4In"
      },
      "source": [
        "t = np.linspace(0,20)"
      ],
      "execution_count": 22,
      "outputs": []
    },
    {
      "cell_type": "code",
      "metadata": {
        "colab": {
          "base_uri": "https://localhost:8080/"
        },
        "id": "Gy1xZAVwPMLV",
        "outputId": "7e8fddec-9562-4d06-e890-5bc603b188e5"
      },
      "source": [
        "y = odeint(model, y0, t)"
      ],
      "execution_count": 23,
      "outputs": [
        {
          "output_type": "stream",
          "name": "stderr",
          "text": [
            "/usr/local/lib/python3.7/dist-packages/scipy/integrate/odepack.py:248: ODEintWarning: Excess work done on this call (perhaps wrong Dfun type). Run with full_output = 1 to get quantitative information.\n",
            "  warnings.warn(warning_msg, ODEintWarning)\n"
          ]
        }
      ]
    },
    {
      "cell_type": "code",
      "metadata": {
        "colab": {
          "base_uri": "https://localhost:8080/",
          "height": 290
        },
        "id": "IRYwazduPNfc",
        "outputId": "9cc02492-0af8-49d7-ae6e-a66f6c5e51db"
      },
      "source": [
        "plt.plot(t,y)\n",
        "plt.xlabel('time')\n",
        "plt.ylabel('y(t)')\n",
        "plt.show()"
      ],
      "execution_count": 24,
      "outputs": [
        {
          "output_type": "display_data",
          "data": {
            "image/png": "[encoded data removed]",
            "text/plain": [
              "<Figure size 432x288 with 1 Axes>"
            ]
          },
          "metadata": {
            "needs_background": "light"
          }
        }
      ]
    },
    {
      "cell_type": "markdown",
      "metadata": {
        "id": "wokTs6BzPm9E"
      },
      "source": [
        "## Additional Arguments\n",
        "\n",
        "y = odeint(model, y0, t, args)"
      ]
    },
    {
      "cell_type": "code",
      "metadata": {
        "id": "2GTl7hM_PO1P"
      },
      "source": [
        "def model(y,t,k):\n",
        "  dydt=-k*y\n",
        "  return dydt"
      ],
      "execution_count": 25,
      "outputs": []
    },
    {
      "cell_type": "code",
      "metadata": {
        "id": "ND5V-fUwP9Cs"
      },
      "source": [
        "y0 = 5"
      ],
      "execution_count": 26,
      "outputs": []
    },
    {
      "cell_type": "code",
      "metadata": {
        "id": "m6Nbl1CzP-p7"
      },
      "source": [
        "t = np.linspace(0,20)"
      ],
      "execution_count": 27,
      "outputs": []
    },
    {
      "cell_type": "code",
      "metadata": {
        "id": "JUCfIk1yQCGP"
      },
      "source": [
        "k = 0.1\n",
        "y1 = odeint(model, y0, t, args=(k,))\n",
        "k = 0.2\n",
        "y2 = odeint(model, y0, t, args=(k,))\n",
        "k = 0.3\n",
        "y3 = odeint(model, y0, t, args=(k,))"
      ],
      "execution_count": 29,
      "outputs": []
    },
    {
      "cell_type": "code",
      "metadata": {
        "colab": {
          "base_uri": "https://localhost:8080/",
          "height": 279
        },
        "id": "z05yhNzuQMxH",
        "outputId": "bcc0fc97-3c55-4e4f-9006-530a28381c81"
      },
      "source": [
        "plt.plot(t,y1,'r-',label='k=0.1')\n",
        "plt.plot(t,y2,'b-',label='k=0.2')\n",
        "plt.plot(t,y3,'g-',label='k=0.3')\n",
        "plt.xlabel('time')\n",
        "plt.ylabel('y(t)')\n",
        "plt.legend()\n",
        "plt.show()"
      ],
      "execution_count": 32,
      "outputs": [
        {
          "output_type": "display_data",
          "data": {
            "image/png": "[encoded data removed]",
            "text/plain": [
              "<Figure size 432x288 with 1 Axes>"
            ]
          },
          "metadata": {
            "needs_background": "light"
          }
        }
      ]
    },
    {
      "cell_type": "code",
      "metadata": {
        "id": "NjLmwJl5QiRV"
      },
      "source": [
        "def model(y,t):\n",
        "  dydt = -y + 1.0\n",
        "  return dydt"
      ],
      "execution_count": 33,
      "outputs": []
    },
    {
      "cell_type": "code",
      "metadata": {
        "id": "1kyqfhBgROcr"
      },
      "source": [
        "y0 = 0"
      ],
      "execution_count": 34,
      "outputs": []
    },
    {
      "cell_type": "code",
      "metadata": {
        "id": "Vvir40I7RP0m"
      },
      "source": [
        "t = np.linspace(0,20)"
      ],
      "execution_count": 35,
      "outputs": []
    },
    {
      "cell_type": "code",
      "metadata": {
        "id": "iz4sabdVR2G1"
      },
      "source": [
        "y = odeint(model, y0, t)"
      ],
      "execution_count": 36,
      "outputs": []
    },
    {
      "cell_type": "code",
      "metadata": {
        "colab": {
          "base_uri": "https://localhost:8080/",
          "height": 279
        },
        "id": "0-jGtd9CR3H-",
        "outputId": "98b216b9-4a96-4cea-bf41-5d0bc1682053"
      },
      "source": [
        "plt.plot(t,y)\n",
        "plt.xlabel('time')\n",
        "plt.ylabel('y(t)')\n",
        "plt.show()"
      ],
      "execution_count": 37,
      "outputs": [
        {
          "output_type": "display_data",
          "data": {
            "image/png": "[encoded data removed]",
            "text/plain": [
              "<Figure size 432x288 with 1 Axes>"
            ]
          },
          "metadata": {
            "needs_background": "light"
          }
        }
      ]
    },
    {
      "cell_type": "code",
      "metadata": {
        "id": "4VF2q8sxR6r8"
      },
      "source": [
        "def model(y,t):\n",
        "  if(t<10.0):\n",
        "    u = 0\n",
        "  else:\n",
        "    u = 2\n",
        "  dydt = (-y + u)/5.0\n",
        "  return dydt"
      ],
      "execution_count": 38,
      "outputs": []
    },
    {
      "cell_type": "code",
      "metadata": {
        "id": "d9oXL05mS2m7"
      },
      "source": [
        "y0 = 1\n",
        "t = np.linspace(0,40,1000)\n",
        "y = odeint(model, y0, t)"
      ],
      "execution_count": 40,
      "outputs": []
    },
    {
      "cell_type": "code",
      "metadata": {
        "colab": {
          "base_uri": "https://localhost:8080/",
          "height": 279
        },
        "id": "gAjrycqQTEKZ",
        "outputId": "5b425d09-270e-4998-f29b-c26b58a374f4"
      },
      "source": [
        "plt.plot(t,y,'r-',label='Output (y(t))')\n",
        "plt.plot([0,10,10,40],[0,0,2,2],'b-',label='Input (u(t))')\n",
        "plt.xlabel('time')\n",
        "plt.ylabel('y(t)')\n",
        "plt.show()"
      ],
      "execution_count": 42,
      "outputs": [
        {
          "output_type": "display_data",
          "data": {
            "image/png": "[encoded data removed]",
            "text/plain": [
              "<Figure size 432x288 with 1 Axes>"
            ]
          },
          "metadata": {
            "needs_background": "light"
          }
        }
      ]
    },
    {
      "cell_type": "code",
      "metadata": {
        "id": "jZNNYSydTHvE"
      },
      "source": [
        ""
      ],
      "execution_count": null,
      "outputs": []
    }
  ]
}