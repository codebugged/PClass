{
  "nbformat": 4,
  "nbformat_minor": 0,
  "metadata": {
    "colab": {
      "name": "P_Day-6.ipynb",
      "provenance": []
    },
    "kernelspec": {
      "name": "python3",
      "display_name": "Python 3"
    },
    "language_info": {
      "name": "python"
    }
  },
  "cells": [
    {
      "cell_type": "code",
      "metadata": {
        "id": "-Jlk1BV5wVIG"
      },
      "source": [
        "def pend(y, t, b, c):\n",
        "  theta, omega = y\n",
        "  dydt = [omega, -b*omega - c*np.sin(theta)]\n",
        "  return dydt"
      ],
      "execution_count": 1,
      "outputs": []
    },
    {
      "cell_type": "code",
      "metadata": {
        "id": "_eVSP8u1ydKJ"
      },
      "source": [
        "b=0.25\n",
        "c=5.0"
      ],
      "execution_count": 2,
      "outputs": []
    },
    {
      "cell_type": "code",
      "metadata": {
        "id": "kexsrwPazgER"
      },
      "source": [
        "import numpy as np"
      ],
      "execution_count": 4,
      "outputs": []
    },
    {
      "cell_type": "code",
      "metadata": {
        "id": "P5cpmCS9yfny"
      },
      "source": [
        "y0 = [np.pi - 0.1, 0.0 ]"
      ],
      "execution_count": 5,
      "outputs": []
    },
    {
      "cell_type": "code",
      "metadata": {
        "id": "X30X5K4ozeP7"
      },
      "source": [
        "t = np.linspace(0,10,101)"
      ],
      "execution_count": 6,
      "outputs": []
    },
    {
      "cell_type": "code",
      "metadata": {
        "id": "WKaTxS3Nzo-v"
      },
      "source": [
        "from scipy.integrate import odeint"
      ],
      "execution_count": 7,
      "outputs": []
    },
    {
      "cell_type": "code",
      "metadata": {
        "id": "p2ZVjRQ1ztxU"
      },
      "source": [
        "sol = odeint(pend, y0, t, args=(b,c))"
      ],
      "execution_count": 8,
      "outputs": []
    },
    {
      "cell_type": "code",
      "metadata": {
        "colab": {
          "base_uri": "https://localhost:8080/"
        },
        "id": "-_7LTjgOz1Ra",
        "outputId": "80a374d3-a2e6-407c-f16c-d636ab61eff9"
      },
      "source": [
        "sol"
      ],
      "execution_count": 9,
      "outputs": [
        {
          "output_type": "execute_result",
          "data": {
            "text/plain": [
              "array([[ 3.04159265,  0.        ],\n",
              "       [ 3.03910723, -0.04970768],\n",
              "       [ 3.03161031, -0.10063956],\n",
              "       [ 3.01885604, -0.15527321],\n",
              "       [ 3.00034622, -0.21619767],\n",
              "       [ 2.97531335, -0.28622816],\n",
              "       [ 2.94269236, -0.36852039],\n",
              "       [ 2.9010809 , -0.46668211],\n",
              "       [ 2.848689  , -0.58487276],\n",
              "       [ 2.78328015, -0.72787029],\n",
              "       [ 2.70210903, -0.90106107],\n",
              "       [ 2.60186732, -1.11027155],\n",
              "       [ 2.47865984, -1.3612978 ],\n",
              "       [ 2.32805211, -1.65890275],\n",
              "       [ 2.14525787, -2.0049587 ],\n",
              "       [ 1.92556948, -2.39540405],\n",
              "       [ 1.66515613, -2.81597674],\n",
              "       [ 1.36231792, -3.23764423],\n",
              "       [ 1.01910727, -3.61446079],\n",
              "       [ 0.64286044, -3.88828749],\n",
              "       [ 0.24676549, -4.00343576],\n",
              "       [-0.15140491, -3.92725068],\n",
              "       [-0.53241995, -3.66433553],\n",
              "       [-0.87932573, -3.25358654],\n",
              "       [-1.18006013, -2.75037198],\n",
              "       [-1.42806941, -2.20669539],\n",
              "       [-1.6213048 , -1.65959566],\n",
              "       [-1.76055592, -1.12905795],\n",
              "       [-1.84788973, -0.62143349],\n",
              "       [-1.88553286, -0.13437941],\n",
              "       [-1.87523307,  0.33866852],\n",
              "       [-1.81802464,  0.80486693],\n",
              "       [-1.71432796,  1.2688304 ],\n",
              "       [-1.56435663,  1.7295602 ],\n",
              "       [-1.36883412,  2.17736547],\n",
              "       [-1.12999393,  2.59146936],\n",
              "       [-0.85271829,  2.93998777],\n",
              "       [-0.54546809,  3.18445014],\n",
              "       [-0.22048863,  3.28963183],\n",
              "       [ 0.10712718,  3.23570232],\n",
              "       [ 0.42144075,  3.02621066],\n",
              "       [ 0.70802128,  2.6866937 ],\n",
              "       [ 0.95570433,  2.25491542],\n",
              "       [ 1.1572085 ,  1.76897524],\n",
              "       [ 1.30871428,  1.25911366],\n",
              "       [ 1.40890052,  0.74501896],\n",
              "       [ 1.45793494,  0.23723631],\n",
              "       [ 1.45671902, -0.25947354],\n",
              "       [ 1.4065009 , -0.74230586],\n",
              "       [ 1.30886387, -1.20679591],\n",
              "       [ 1.16605149, -1.64376076],\n",
              "       [ 0.98155128, -2.03730071],\n",
              "       [ 0.76078956, -2.36475149],\n",
              "       [ 0.51169046, -2.59958227],\n",
              "       [ 0.24478427, -2.71740504],\n",
              "       [-0.02737839, -2.7033834 ],\n",
              "       [-0.29148299, -2.55761048],\n",
              "       [-0.53500851, -2.2954336 ],\n",
              "       [-0.74754375, -1.94257691],\n",
              "       [-0.92146766, -1.52792283],\n",
              "       [-1.0519417 , -1.0774618 ],\n",
              "       [-1.13644352, -0.61130215],\n",
              "       [-1.17415724, -0.14366014],\n",
              "       [-1.16546815,  0.31524741],\n",
              "       [-1.11169356,  0.75653571],\n",
              "       [-1.0150831 ,  1.17005078],\n",
              "       [-0.87904838,  1.54248574],\n",
              "       [-0.70851898,  1.8568438 ],\n",
              "       [-0.51026059,  2.09380278],\n",
              "       [-0.29295404,  2.23508222],\n",
              "       [-0.0668679 ,  2.26797587],\n",
              "       [ 0.15690793,  2.18924871],\n",
              "       [ 0.36750413,  2.0064979 ],\n",
              "       [ 0.55528629,  1.73627277],\n",
              "       [ 0.71255601,  1.39997835],\n",
              "       [ 0.83381336,  1.01953616],\n",
              "       [ 0.91564485,  0.61442028],\n",
              "       [ 0.95641165,  0.20063188],\n",
              "       [ 0.95592071, -0.20871992],\n",
              "       [ 0.91520479, -0.6019497 ],\n",
              "       [ 0.83646259, -0.96717639],\n",
              "       [ 0.72314159, -1.29118597],\n",
              "       [ 0.58008848, -1.55928715],\n",
              "       [ 0.41365053, -1.75646233],\n",
              "       [ 0.2315992 , -1.86970647],\n",
              "       [ 0.04278667, -1.89087049],\n",
              "       [-0.14346119, -1.81888718],\n",
              "       [-0.3180988 , -1.66036152],\n",
              "       [-0.47307622, -1.42824238],\n",
              "       [-0.6018493 , -1.13921281],\n",
              "       [-0.69961135, -0.81092156],\n",
              "       [-0.76328144, -0.46000002],\n",
              "       [-0.79135213, -0.10124495],\n",
              "       [-0.78370883,  0.25218766],\n",
              "       [-0.74150116,  0.5880244 ],\n",
              "       [-0.66709656,  0.89406934],\n",
              "       [-0.56409729,  1.15781153],\n",
              "       [-0.43736183,  1.36676332],\n",
              "       [-0.29295136,  1.5096092 ],\n",
              "       [-0.13792988,  1.57791374],\n",
              "       [ 0.02001168,  1.56781812]])"
            ]
          },
          "metadata": {},
          "execution_count": 9
        }
      ]
    },
    {
      "cell_type": "code",
      "metadata": {
        "id": "gOyE2ggaz5xf"
      },
      "source": [
        "import matplotlib.pyplot as plt"
      ],
      "execution_count": 10,
      "outputs": []
    },
    {
      "cell_type": "code",
      "metadata": {
        "colab": {
          "base_uri": "https://localhost:8080/",
          "height": 265
        },
        "id": "uk86lLsy0cXF",
        "outputId": "05756aca-3a1e-4d5a-ad24-3d65e9351cfb"
      },
      "source": [
        "plt.plot(t, sol[:,0],'b')\n",
        "plt.plot(t, sol[:,1],'g')\n",
        "plt.show()"
      ],
      "execution_count": 12,
      "outputs": [
        {
          "output_type": "display_data",
          "data": {
            "image/png": "[encoded data removed]",
            "text/plain": [
              "<Figure size 432x288 with 1 Axes>"
            ]
          },
          "metadata": {
            "needs_background": "light"
          }
        }
      ]
    },
    {
      "cell_type": "code",
      "metadata": {
        "id": "A6emzKaU0oEs"
      },
      "source": [
        "def f(u,x):\n",
        "  return(u[1],-2*u[1]-2*u[0]+np.cos(2*x))"
      ],
      "execution_count": 14,
      "outputs": []
    },
    {
      "cell_type": "code",
      "metadata": {
        "id": "kF9T3Jag2Li4"
      },
      "source": [
        "y0 = [0,0]"
      ],
      "execution_count": 15,
      "outputs": []
    },
    {
      "cell_type": "code",
      "metadata": {
        "id": "C701eZ022See"
      },
      "source": [
        "t = np.linspace(1,10,200)"
      ],
      "execution_count": 16,
      "outputs": []
    },
    {
      "cell_type": "code",
      "metadata": {
        "id": "Jimvz5ME2XD4"
      },
      "source": [
        "us = odeint(f,y0,t)"
      ],
      "execution_count": 17,
      "outputs": []
    },
    {
      "cell_type": "code",
      "metadata": {
        "id": "FExrFx2l2eDG"
      },
      "source": [
        "ys = us[:,0]"
      ],
      "execution_count": 20,
      "outputs": []
    },
    {
      "cell_type": "code",
      "metadata": {
        "colab": {
          "base_uri": "https://localhost:8080/",
          "height": 265
        },
        "id": "SbNkoYw82f4l",
        "outputId": "dd0471ef-dc38-40e0-abe6-e42799eee8ff"
      },
      "source": [
        "plt.plot(t,ys)\n",
        "plt.show()"
      ],
      "execution_count": 21,
      "outputs": [
        {
          "output_type": "display_data",
          "data": {
            "image/png": "[encoded data removed]",
            "text/plain": [
              "<Figure size 432x288 with 1 Axes>"
            ]
          },
          "metadata": {
            "needs_background": "light"
          }
        }
      ]
    },
    {
      "cell_type": "code",
      "metadata": {
        "id": "QORTJtv6270g"
      },
      "source": [
        "def f(u,x):\n",
        "  return(u[1],-5*u[1]-7)"
      ],
      "execution_count": 22,
      "outputs": []
    },
    {
      "cell_type": "code",
      "metadata": {
        "id": "6WSmhpjT31Wl"
      },
      "source": [
        "y0 = [21, 12]"
      ],
      "execution_count": 23,
      "outputs": []
    },
    {
      "cell_type": "code",
      "metadata": {
        "id": "2KZLdify34LH"
      },
      "source": [
        "t = np.arange(0,5,0.1)"
      ],
      "execution_count": 35,
      "outputs": []
    },
    {
      "cell_type": "code",
      "metadata": {
        "id": "U9W8Rgbk4BX_"
      },
      "source": [
        "us = odeint(f,y0,t)"
      ],
      "execution_count": 36,
      "outputs": []
    },
    {
      "cell_type": "code",
      "metadata": {
        "colab": {
          "base_uri": "https://localhost:8080/"
        },
        "id": "cK6UCKLD4SeP",
        "outputId": "298afa13-0ded-4e83-eaed-611dc4c8733c"
      },
      "source": [
        "us"
      ],
      "execution_count": 37,
      "outputs": [
        {
          "output_type": "execute_result",
          "data": {
            "text/plain": [
              "array([[21.        , 12.        ],\n",
              "       [21.91449779,  6.72751105],\n",
              "       [22.41408307,  3.52958464],\n",
              "       [22.66201116,  1.58994421],\n",
              "       [22.75730144,  0.4134928 ],\n",
              "       [22.76001221, -0.30006104],\n",
              "       [22.70657066, -0.73285331],\n",
              "       [22.61907101, -0.99535507],\n",
              "       [22.51091409, -1.15457044],\n",
              "       [22.39022789, -1.25113944],\n",
              "       [22.2619423 , -1.3097115 ],\n",
              "       [22.12904745, -1.34523726],\n",
              "       [21.99335694, -1.36678472],\n",
              "       [21.85597078, -1.37985391],\n",
              "       [21.71755616, -1.38778078],\n",
              "       [21.57851773, -1.39258867],\n",
              "       [21.43910096, -1.3955048 ],\n",
              "       [21.2994547 , -1.39727352],\n",
              "       [21.15966926, -1.39834631],\n",
              "       [21.0197994 , -1.39899699],\n",
              "       [20.87987833, -1.39939164],\n",
              "       [20.7399262 , -1.39963101],\n",
              "       [20.59995524, -1.3997762 ],\n",
              "       [20.45997285, -1.39986426],\n",
              "       [20.31998353, -1.39991766],\n",
              "       [20.17999001, -1.39995006],\n",
              "       [20.03999394, -1.39996971],\n",
              "       [19.89999633, -1.39998163],\n",
              "       [19.75999777, -1.39998886],\n",
              "       [19.61999865, -1.39999324],\n",
              "       [19.47999918, -1.3999959 ],\n",
              "       [19.3399995 , -1.39999751],\n",
              "       [19.1999997 , -1.39999849],\n",
              "       [19.05999982, -1.39999908],\n",
              "       [18.91999989, -1.39999944],\n",
              "       [18.77999993, -1.39999966],\n",
              "       [18.63999996, -1.39999979],\n",
              "       [18.49999998, -1.39999988],\n",
              "       [18.35999999, -1.39999993],\n",
              "       [18.21999999, -1.39999996],\n",
              "       [18.07999999, -1.39999997],\n",
              "       [17.94      , -1.39999998],\n",
              "       [17.8       , -1.39999999],\n",
              "       [17.66      , -1.39999999],\n",
              "       [17.52      , -1.4       ],\n",
              "       [17.38      , -1.4       ],\n",
              "       [17.24      , -1.4       ],\n",
              "       [17.1       , -1.4       ],\n",
              "       [16.96      , -1.4       ],\n",
              "       [16.82      , -1.4       ]])"
            ]
          },
          "metadata": {},
          "execution_count": 37
        }
      ]
    },
    {
      "cell_type": "code",
      "metadata": {
        "id": "S4ucVyOr4TND"
      },
      "source": [
        "ys = us[:,0]"
      ],
      "execution_count": 38,
      "outputs": []
    },
    {
      "cell_type": "code",
      "metadata": {
        "colab": {
          "base_uri": "https://localhost:8080/",
          "height": 267
        },
        "id": "AXkG8Glp4ugU",
        "outputId": "40157c25-fa0f-4a2d-d1ac-fb1bee1dfe03"
      },
      "source": [
        "plt.plot(t,ys)\n",
        "plt.show()"
      ],
      "execution_count": 39,
      "outputs": [
        {
          "output_type": "display_data",
          "data": {
            "image/png": "[encoded data removed]",
            "text/plain": [
              "<Figure size 432x288 with 1 Axes>"
            ]
          },
          "metadata": {
            "needs_background": "light"
          }
        }
      ]
    },
    {
      "cell_type": "code",
      "metadata": {
        "id": "dKDDjT9P419o"
      },
      "source": [
        "def f(u,x):\n",
        "  return(u[1],-x**2*np.sin(u[0]))"
      ],
      "execution_count": 40,
      "outputs": []
    },
    {
      "cell_type": "code",
      "metadata": {
        "id": "3Y_eiF2v53-T"
      },
      "source": [
        "u0 = [1,0]"
      ],
      "execution_count": 41,
      "outputs": []
    },
    {
      "cell_type": "code",
      "metadata": {
        "id": "UIxIwno8551K"
      },
      "source": [
        "t = np.arange(0,3,0.5)"
      ],
      "execution_count": 42,
      "outputs": []
    },
    {
      "cell_type": "code",
      "metadata": {
        "id": "AeeporXf6CU5"
      },
      "source": [
        "us = odeint(f,u0,t)"
      ],
      "execution_count": 43,
      "outputs": []
    },
    {
      "cell_type": "code",
      "metadata": {
        "id": "WWh7aWzN6I1n"
      },
      "source": [
        "ys=us[:,0]"
      ],
      "execution_count": 46,
      "outputs": []
    },
    {
      "cell_type": "code",
      "metadata": {
        "colab": {
          "base_uri": "https://localhost:8080/",
          "height": 265
        },
        "id": "XakJgns96Mm4",
        "outputId": "68e059ea-f1f6-49b6-8e69-74c2263f4e87"
      },
      "source": [
        "plt.plot(t,ys)\n",
        "plt.show()"
      ],
      "execution_count": 48,
      "outputs": [
        {
          "output_type": "display_data",
          "data": {
            "image/png": "[encoded data removed]",
            "text/plain": [
              "<Figure size 432x288 with 1 Axes>"
            ]
          },
          "metadata": {
            "needs_background": "light"
          }
        }
      ]
    },
    {
      "cell_type": "code",
      "metadata": {
        "id": "NiRMovy06TrL"
      },
      "source": [
        "def f(u,x):\n",
        "  return(u[1],u[0]**1.5/x**0.5)"
      ],
      "execution_count": 49,
      "outputs": []
    },
    {
      "cell_type": "code",
      "metadata": {
        "id": "JM54ze8l7YaH"
      },
      "source": [
        "y0 = [1,0]"
      ],
      "execution_count": 50,
      "outputs": []
    },
    {
      "cell_type": "code",
      "metadata": {
        "id": "s7m-lhnS7xW9"
      },
      "source": [
        "t = np.arange(0,5,0.2)"
      ],
      "execution_count": 73,
      "outputs": []
    },
    {
      "cell_type": "code",
      "metadata": {
        "colab": {
          "base_uri": "https://localhost:8080/"
        },
        "id": "cAgkpHPC70Qd",
        "outputId": "8cd840e4-b747-4204-f41d-bb9b9ba98448"
      },
      "source": [
        "us = odeint(f,u0,t)"
      ],
      "execution_count": 74,
      "outputs": [
        {
          "output_type": "stream",
          "name": "stderr",
          "text": [
            "/usr/local/lib/python3.7/dist-packages/ipykernel_launcher.py:2: RuntimeWarning: divide by zero encountered in double_scalars\n",
            "  \n",
            "/usr/local/lib/python3.7/dist-packages/scipy/integrate/odepack.py:248: ODEintWarning: Illegal input detected (internal error). Run with full_output = 1 to get quantitative information.\n",
            "  warnings.warn(warning_msg, ODEintWarning)\n"
          ]
        }
      ]
    },
    {
      "cell_type": "code",
      "metadata": {
        "id": "Y25psqoF73DR"
      },
      "source": [
        "ys=us[:,0]"
      ],
      "execution_count": 75,
      "outputs": []
    },
    {
      "cell_type": "code",
      "metadata": {
        "colab": {
          "base_uri": "https://localhost:8080/"
        },
        "id": "NCfYfMlY8aHu",
        "outputId": "7dea841a-16b5-445c-9bd9-94e28f0e578f"
      },
      "source": [
        "us"
      ],
      "execution_count": 77,
      "outputs": [
        {
          "output_type": "execute_result",
          "data": {
            "text/plain": [
              "array([[ 1.        ,  0.        ],\n",
              "       [        nan,         nan],\n",
              "       [        nan,         nan],\n",
              "       [22.70657066, 22.61907101],\n",
              "       [22.51091409, 22.39022789],\n",
              "       [22.2619423 , 22.12904745],\n",
              "       [21.99335694, 21.85597078],\n",
              "       [21.71755616, 21.57851773],\n",
              "       [21.43910096, 21.2994547 ],\n",
              "       [21.15966926, 21.0197994 ],\n",
              "       [20.87987833, 20.7399262 ],\n",
              "       [20.59995524, 20.45997285],\n",
              "       [20.31998353, 20.17999001],\n",
              "       [20.03999394, 19.89999633],\n",
              "       [19.75999777, 19.61999865],\n",
              "       [19.47999918, 19.3399995 ],\n",
              "       [19.1999997 , 19.05999982],\n",
              "       [18.91999989, 18.77999993],\n",
              "       [18.63999996, 18.49999998],\n",
              "       [18.35999999, 18.21999999],\n",
              "       [18.07999999, 17.94      ],\n",
              "       [17.8       , 17.66      ],\n",
              "       [17.52      , 17.38      ],\n",
              "       [17.24      , 17.1       ],\n",
              "       [16.96      , 16.82      ]])"
            ]
          },
          "metadata": {},
          "execution_count": 77
        }
      ]
    },
    {
      "cell_type": "code",
      "metadata": {
        "colab": {
          "base_uri": "https://localhost:8080/",
          "height": 265
        },
        "id": "uDkR-8Hv79D_",
        "outputId": "f7090ea2-3e3c-4621-98ef-de8c7629ee7d"
      },
      "source": [
        "plt.plot(t,ys)\n",
        "plt.plot(t,ys,'ro')\n",
        "plt.show()"
      ],
      "execution_count": 78,
      "outputs": [
        {
          "output_type": "display_data",
          "data": {
            "image/png": "[encoded data removed]",
            "text/plain": [
              "<Figure size 432x288 with 1 Axes>"
            ]
          },
          "metadata": {
            "needs_background": "light"
          }
        }
      ]
    },
    {
      "cell_type": "code",
      "metadata": {
        "id": "runW-ddF7-xG"
      },
      "source": [
        ""
      ],
      "execution_count": null,
      "outputs": []
    }
  ]
}