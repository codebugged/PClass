{
  "nbformat": 4,
  "nbformat_minor": 0,
  "metadata": {
    "colab": {
      "name": "P-Day_1.ipynb",
      "provenance": []
    },
    "kernelspec": {
      "name": "python3",
      "display_name": "Python 3"
    },
    "language_info": {
      "name": "python"
    }
  },
  "cells": [
    {
      "cell_type": "markdown",
      "metadata": {
        "id": "34YoPVpSsdbF"
      },
      "source": [
        "## Hey! Let's start with python"
      ]
    },
    {
      "cell_type": "code",
      "metadata": {
        "colab": {
          "base_uri": "https://localhost:8080/"
        },
        "id": "0C8Nm24NsOEP",
        "outputId": "00f4c337-6c55-4a69-a6a9-8034f4a45c61"
      },
      "source": [
        "print(\"Hello Samantha!\")"
      ],
      "execution_count": 1,
      "outputs": [
        {
          "output_type": "stream",
          "name": "stdout",
          "text": [
            "Hello Samantha!\n"
          ]
        }
      ]
    },
    {
      "cell_type": "markdown",
      "metadata": {
        "id": "koJvZFTTu8r0"
      },
      "source": [
        "## If Else Statement"
      ]
    },
    {
      "cell_type": "code",
      "metadata": {
        "colab": {
          "base_uri": "https://localhost:8080/"
        },
        "id": "Ir5QwiFgsa45",
        "outputId": "3ae5c12a-f400-4b2f-d948-c3f1218c9bfa"
      },
      "source": [
        "if (5>2):\n",
        "  print(\"yes you are right\")"
      ],
      "execution_count": 6,
      "outputs": [
        {
          "output_type": "stream",
          "name": "stdout",
          "text": [
            "yes you are right\n"
          ]
        }
      ]
    },
    {
      "cell_type": "code",
      "metadata": {
        "id": "YUmgiP3bvGZE"
      },
      "source": [
        "if (5<2):\n",
        "  print(\"yes you are right\")"
      ],
      "execution_count": 7,
      "outputs": []
    },
    {
      "cell_type": "code",
      "metadata": {
        "colab": {
          "base_uri": "https://localhost:8080/"
        },
        "id": "1DWaj7RTvNVs",
        "outputId": "50ad6f76-dfb7-4d32-b22d-6e1ed8da9e3a"
      },
      "source": [
        "if (5>2):\n",
        "  print(\"Five is greater than two\")\n",
        "if (1<2):\n",
        "  print(\"One is smaller than two\")"
      ],
      "execution_count": 8,
      "outputs": [
        {
          "output_type": "stream",
          "name": "stdout",
          "text": [
            "Five is greater than two\n",
            "One is smaller than two\n"
          ]
        }
      ]
    },
    {
      "cell_type": "markdown",
      "metadata": {
        "id": "-47ES7Fpv0YD"
      },
      "source": [
        "## Python Variables"
      ]
    },
    {
      "cell_type": "code",
      "metadata": {
        "id": "YV5xzan_vvrG"
      },
      "source": [
        "x = 5\n",
        "y = \"Hello Samantha\""
      ],
      "execution_count": 12,
      "outputs": []
    },
    {
      "cell_type": "code",
      "metadata": {
        "colab": {
          "base_uri": "https://localhost:8080/"
        },
        "id": "aBKXYlbDwEKe",
        "outputId": "26895358-d936-4c52-e2df-a0b2e449ebfa"
      },
      "source": [
        "print(x)"
      ],
      "execution_count": 13,
      "outputs": [
        {
          "output_type": "stream",
          "name": "stdout",
          "text": [
            "5\n"
          ]
        }
      ]
    },
    {
      "cell_type": "code",
      "metadata": {
        "colab": {
          "base_uri": "https://localhost:8080/"
        },
        "id": "Xux5PkngwHRR",
        "outputId": "3fafc9d1-e62c-4677-a446-90eab7a8acb8"
      },
      "source": [
        "print(y)"
      ],
      "execution_count": 14,
      "outputs": [
        {
          "output_type": "stream",
          "name": "stdout",
          "text": [
            "Hello Samantha\n"
          ]
        }
      ]
    },
    {
      "cell_type": "markdown",
      "metadata": {
        "id": "c9Er0BkqwZE9"
      },
      "source": [
        "## Data Types \n",
        "1. INT - Integer \n",
        "2. String - words, charaters etc.\n",
        "3. Float - decimal numbers"
      ]
    },
    {
      "cell_type": "code",
      "metadata": {
        "id": "_knVBtGfwWQe"
      },
      "source": [
        "x = \"3\"\n",
        "y = 3\n",
        "z = 3.0"
      ],
      "execution_count": 15,
      "outputs": []
    },
    {
      "cell_type": "code",
      "metadata": {
        "colab": {
          "base_uri": "https://localhost:8080/"
        },
        "id": "4J24MSXwwywg",
        "outputId": "5cc5f359-a35a-4d49-ba2a-45b9ee17be6a"
      },
      "source": [
        "print(type(x))\n",
        "print(type(y))\n",
        "print(type(z))"
      ],
      "execution_count": 17,
      "outputs": [
        {
          "output_type": "stream",
          "name": "stdout",
          "text": [
            "<class 'str'>\n",
            "<class 'int'>\n",
            "<class 'float'>\n"
          ]
        }
      ]
    },
    {
      "cell_type": "code",
      "metadata": {
        "id": "al7A6seSw_Ey"
      },
      "source": [
        "a = y+z"
      ],
      "execution_count": 18,
      "outputs": []
    },
    {
      "cell_type": "code",
      "metadata": {
        "colab": {
          "base_uri": "https://localhost:8080/"
        },
        "id": "6mo8hig_xSyI",
        "outputId": "c33ebfe8-ea17-4002-8177-4f4b42a29743"
      },
      "source": [
        "print(type(a))\n",
        "print(a)"
      ],
      "execution_count": 20,
      "outputs": [
        {
          "output_type": "stream",
          "name": "stdout",
          "text": [
            "<class 'float'>\n",
            "6.0\n"
          ]
        }
      ]
    },
    {
      "cell_type": "code",
      "metadata": {
        "id": "yFOrRMM4xc_P"
      },
      "source": [
        "#type casting\n",
        "b = int(x)+y "
      ],
      "execution_count": 22,
      "outputs": []
    },
    {
      "cell_type": "code",
      "metadata": {
        "colab": {
          "base_uri": "https://localhost:8080/"
        },
        "id": "3yB30OJaxjZg",
        "outputId": "0c43a712-d0ca-41b7-8bc5-95a12c4e45f4"
      },
      "source": [
        "print(type(b))\n",
        "print(b)"
      ],
      "execution_count": 23,
      "outputs": [
        {
          "output_type": "stream",
          "name": "stdout",
          "text": [
            "<class 'int'>\n",
            "6\n"
          ]
        }
      ]
    },
    {
      "cell_type": "markdown",
      "metadata": {
        "id": "noBh1rgMx9Ru"
      },
      "source": [
        "## Python Operators\n",
        "'+' Addition Operator\n",
        "\n",
        "\n",
        "'-' Subtraction Operator\n",
        "\n",
        "'/' Division Operator\n",
        "\n",
        "'//' Floor Division \n",
        "\n",
        "'*' Multiplication Operator\n",
        "\n",
        "'%' Modulo Operator\n",
        "\n",
        "'**' Exponential Operator"
      ]
    },
    {
      "cell_type": "code",
      "metadata": {
        "colab": {
          "base_uri": "https://localhost:8080/"
        },
        "id": "_fn1IwyAxuVI",
        "outputId": "4058c6b2-2905-4698-d704-107759fa4dd9"
      },
      "source": [
        "a = 3**5\n",
        "print(a)"
      ],
      "execution_count": 26,
      "outputs": [
        {
          "output_type": "stream",
          "name": "stdout",
          "text": [
            "243\n"
          ]
        }
      ]
    },
    {
      "cell_type": "code",
      "metadata": {
        "colab": {
          "base_uri": "https://localhost:8080/"
        },
        "id": "xhxJqh2czR9x",
        "outputId": "f5fefaca-e092-4f8a-d964-ac484fcb6805"
      },
      "source": [
        "b = 8%3\n",
        "print(b)"
      ],
      "execution_count": 27,
      "outputs": [
        {
          "output_type": "stream",
          "name": "stdout",
          "text": [
            "2\n"
          ]
        }
      ]
    },
    {
      "cell_type": "code",
      "metadata": {
        "colab": {
          "base_uri": "https://localhost:8080/"
        },
        "id": "Vd7FPaeH0RI0",
        "outputId": "0ec6f817-fa1c-4bfb-afee-473460a24078"
      },
      "source": [
        "x = 15\n",
        "c = not(x<5 and x<10)\n",
        "print(c)"
      ],
      "execution_count": 36,
      "outputs": [
        {
          "output_type": "stream",
          "name": "stdout",
          "text": [
            "True\n"
          ]
        }
      ]
    },
    {
      "cell_type": "markdown",
      "metadata": {
        "id": "Lgra-HcU0uON"
      },
      "source": [
        "Python Identity Operator\n",
        "\n",
        "is \n",
        "\n",
        "is not"
      ]
    },
    {
      "cell_type": "code",
      "metadata": {
        "colab": {
          "base_uri": "https://localhost:8080/"
        },
        "id": "dQ10tZTC0EaH",
        "outputId": "351d2202-76b9-4db9-ad57-4bce9fff8224"
      },
      "source": [
        "a=5\n",
        "b=5\n",
        "print(a is b)"
      ],
      "execution_count": 39,
      "outputs": [
        {
          "output_type": "stream",
          "name": "stdout",
          "text": [
            "True\n"
          ]
        }
      ]
    },
    {
      "cell_type": "markdown",
      "metadata": {
        "id": "mpL07Mw11FHb"
      },
      "source": [
        "Bitwise Operators\n",
        "\n",
        "'&' AND\n",
        "\n",
        "'|' OR\n",
        "\n",
        "'^' XOR\n",
        "\n",
        "'~' NOT\n",
        "\n",
        "'<<' Left Shift\n",
        "\n",
        "'>>' Right Shift\n",
        "\n"
      ]
    },
    {
      "cell_type": "code",
      "metadata": {
        "id": "E9Xdls0E079r"
      },
      "source": [
        "mylist = [\"apple\", \"banana\", \"cherry\"]"
      ],
      "execution_count": 40,
      "outputs": []
    },
    {
      "cell_type": "code",
      "metadata": {
        "id": "YXLhUh9f29gk"
      },
      "source": [
        "mylist[1]='mango'"
      ],
      "execution_count": 44,
      "outputs": []
    },
    {
      "cell_type": "code",
      "metadata": {
        "colab": {
          "base_uri": "https://localhost:8080/"
        },
        "id": "_uRgIALM1u8b",
        "outputId": "0abf1bf2-4da0-4007-ee96-af2d3353ee57"
      },
      "source": [
        "print(mylist)"
      ],
      "execution_count": 45,
      "outputs": [
        {
          "output_type": "stream",
          "name": "stdout",
          "text": [
            "['apple', 'mango', 'cherry']\n"
          ]
        }
      ]
    },
    {
      "cell_type": "code",
      "metadata": {
        "colab": {
          "base_uri": "https://localhost:8080/",
          "height": 34
        },
        "id": "uAT6go0q1ygN",
        "outputId": "6b9ba8b8-cc60-4aad-d5ac-cd3faa33da00"
      },
      "source": [
        "mylist[2]"
      ],
      "execution_count": 42,
      "outputs": [
        {
          "output_type": "execute_result",
          "data": {
            "application/vnd.google.colaboratory.intrinsic+json": {
              "type": "string"
            },
            "text/plain": [
              "'cherry'"
            ]
          },
          "metadata": {},
          "execution_count": 42
        }
      ]
    },
    {
      "cell_type": "code",
      "metadata": {
        "colab": {
          "base_uri": "https://localhost:8080/"
        },
        "id": "4wwviUUt13_f",
        "outputId": "7846bcd0-0cb2-46f2-c6df-1d990a52b47d"
      },
      "source": [
        "l = len(mylist)\n",
        "print(l)"
      ],
      "execution_count": 43,
      "outputs": [
        {
          "output_type": "stream",
          "name": "stdout",
          "text": [
            "3\n"
          ]
        }
      ]
    },
    {
      "cell_type": "markdown",
      "metadata": {
        "id": "YXQIQoym2KeF"
      },
      "source": [
        "Four types of python collections are \n",
        "\n",
        "List - collection which is ordered and changeable. Allow duplicate memebers\n",
        "\n",
        "Tuple - collection which is ordered and unchangeable. Allows duplicate members\n",
        "\n",
        "Set - collection which is unordered. Unchangeable and unindexed. No duplicate members are allowed.\n",
        "\n",
        "Dictionary- Key Value Pair"
      ]
    },
    {
      "cell_type": "code",
      "metadata": {
        "colab": {
          "base_uri": "https://localhost:8080/"
        },
        "id": "zrrFJ3t42JUR",
        "outputId": "55384976-b0ed-4d85-d86c-abfa1d9cc3ea"
      },
      "source": [
        "thistuple = ('apple',\"banana\",\"cherry\")\n",
        "print(thistuple)"
      ],
      "execution_count": 46,
      "outputs": [
        {
          "output_type": "stream",
          "name": "stdout",
          "text": [
            "('apple', 'banana', 'cherry')\n"
          ]
        }
      ]
    },
    {
      "cell_type": "code",
      "metadata": {
        "colab": {
          "base_uri": "https://localhost:8080/",
          "height": 34
        },
        "id": "oUS73bCI1_5G",
        "outputId": "fae85d6f-ac8e-411c-f0e2-67be688478e1"
      },
      "source": [
        "thistuple[1]"
      ],
      "execution_count": 50,
      "outputs": [
        {
          "output_type": "execute_result",
          "data": {
            "application/vnd.google.colaboratory.intrinsic+json": {
              "type": "string"
            },
            "text/plain": [
              "'banana'"
            ]
          },
          "metadata": {},
          "execution_count": 50
        }
      ]
    },
    {
      "cell_type": "code",
      "metadata": {
        "colab": {
          "base_uri": "https://localhost:8080/"
        },
        "id": "diYzZ3Ee3Pjp",
        "outputId": "e4389701-0e4e-40ad-cbec-51b74ae17d7a"
      },
      "source": [
        "myset = {\"apple\",\"apple\",\"cherry\"}\n",
        "print(myset)"
      ],
      "execution_count": 52,
      "outputs": [
        {
          "output_type": "stream",
          "name": "stdout",
          "text": [
            "{'cherry', 'apple'}\n"
          ]
        }
      ]
    },
    {
      "cell_type": "code",
      "metadata": {
        "id": "zbTiSVRT3mUl"
      },
      "source": [
        "thisdict = {\n",
        "    \"brand\":\"Gucci\",\n",
        "    \"type\" : \"Dress\",\n",
        "    \"color\" : \"black\"\n",
        "}"
      ],
      "execution_count": 53,
      "outputs": []
    },
    {
      "cell_type": "code",
      "metadata": {
        "colab": {
          "base_uri": "https://localhost:8080/"
        },
        "id": "vhDHXwJ638iE",
        "outputId": "7bfd7485-2064-47be-8b7c-7ca12cd4a677"
      },
      "source": [
        "print(thisdict)"
      ],
      "execution_count": 54,
      "outputs": [
        {
          "output_type": "stream",
          "name": "stdout",
          "text": [
            "{'brand': 'Gucci', 'type': 'Dress', 'color': 'black'}\n"
          ]
        }
      ]
    },
    {
      "cell_type": "code",
      "metadata": {
        "colab": {
          "base_uri": "https://localhost:8080/",
          "height": 34
        },
        "id": "vI22ra9W3-Bj",
        "outputId": "96072dc9-6db7-4cec-e677-525e7f542f76"
      },
      "source": [
        "thisdict[\"type\"]"
      ],
      "execution_count": 55,
      "outputs": [
        {
          "output_type": "execute_result",
          "data": {
            "application/vnd.google.colaboratory.intrinsic+json": {
              "type": "string"
            },
            "text/plain": [
              "'Dress'"
            ]
          },
          "metadata": {},
          "execution_count": 55
        }
      ]
    },
    {
      "cell_type": "code",
      "metadata": {
        "colab": {
          "base_uri": "https://localhost:8080/"
        },
        "id": "T1KmW6V14E2_",
        "outputId": "e4d6588d-9889-4d05-8906-af05f19a898d"
      },
      "source": [
        "#WAP to add two numbers\n",
        "a = 3\n",
        "b = 4\n",
        "c = a+b\n",
        "print(c)"
      ],
      "execution_count": 56,
      "outputs": [
        {
          "output_type": "stream",
          "name": "stdout",
          "text": [
            "7\n"
          ]
        }
      ]
    },
    {
      "cell_type": "markdown",
      "metadata": {
        "id": "LwKqFyJN4wfy"
      },
      "source": [
        "while(condition)\n",
        "\n",
        "{\n",
        "  \n",
        "  //Executable statement if true\n",
        "\n",
        "}"
      ]
    },
    {
      "cell_type": "code",
      "metadata": {
        "colab": {
          "base_uri": "https://localhost:8080/"
        },
        "id": "rd5QDpLa4pRb",
        "outputId": "64dcdc35-7989-40ff-f375-44c20b2921d6"
      },
      "source": [
        "i=0\n",
        "while(i<5):\n",
        "  print(\"Hey\")\n",
        "  i+=1"
      ],
      "execution_count": 59,
      "outputs": [
        {
          "output_type": "stream",
          "name": "stdout",
          "text": [
            "Hey\n",
            "Hey\n",
            "Hey\n",
            "Hey\n",
            "Hey\n"
          ]
        }
      ]
    },
    {
      "cell_type": "markdown",
      "metadata": {
        "id": "pww4qgsr5joB"
      },
      "source": [
        "for i in 'bound':\n",
        "   statement to execute until it is bounded"
      ]
    },
    {
      "cell_type": "code",
      "metadata": {
        "colab": {
          "base_uri": "https://localhost:8080/"
        },
        "id": "LwUMYph15CuZ",
        "outputId": "a0ea0908-59d8-4dd4-f6f5-7b5a1ee54c9e"
      },
      "source": [
        "for i in range(10):\n",
        "  print(i)"
      ],
      "execution_count": 60,
      "outputs": [
        {
          "output_type": "stream",
          "name": "stdout",
          "text": [
            "0\n",
            "1\n",
            "2\n",
            "3\n",
            "4\n",
            "5\n",
            "6\n",
            "7\n",
            "8\n",
            "9\n"
          ]
        }
      ]
    },
    {
      "cell_type": "code",
      "metadata": {
        "id": "nHavB3jk5hVb"
      },
      "source": [
        "lst = [5,6,6,6,6]"
      ],
      "execution_count": 62,
      "outputs": []
    },
    {
      "cell_type": "code",
      "metadata": {
        "colab": {
          "base_uri": "https://localhost:8080/"
        },
        "id": "F9KBOsr7528a",
        "outputId": "168c7e92-b013-4fa3-83c9-9bb85f6e2569"
      },
      "source": [
        "for i in lst:\n",
        "  print(i)"
      ],
      "execution_count": 63,
      "outputs": [
        {
          "output_type": "stream",
          "name": "stdout",
          "text": [
            "5\n",
            "6\n",
            "6\n",
            "6\n",
            "6\n"
          ]
        }
      ]
    },
    {
      "cell_type": "code",
      "metadata": {
        "colab": {
          "base_uri": "https://localhost:8080/"
        },
        "id": "5MQwH4j054zm",
        "outputId": "44041f38-0759-4ddf-b976-99185864078b"
      },
      "source": [
        "for i in range(2,10,1):\n",
        "  print(i)"
      ],
      "execution_count": 72,
      "outputs": [
        {
          "output_type": "stream",
          "name": "stdout",
          "text": [
            "2\n",
            "3\n",
            "4\n",
            "5\n",
            "6\n",
            "7\n",
            "8\n",
            "9\n"
          ]
        }
      ]
    },
    {
      "cell_type": "code",
      "metadata": {
        "id": "oDPLG7Xo6DtQ"
      },
      "source": [
        ""
      ],
      "execution_count": null,
      "outputs": []
    }
  ]
}