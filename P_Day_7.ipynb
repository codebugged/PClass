{
  "nbformat": 4,
  "nbformat_minor": 0,
  "metadata": {
    "colab": {
      "name": "P_Day_7.ipynb",
      "provenance": []
    },
    "kernelspec": {
      "name": "python3",
      "display_name": "Python 3"
    },
    "language_info": {
      "name": "python"
    }
  },
  "cells": [
    {
      "cell_type": "code",
      "metadata": {
        "id": "7z97TxiqEdef"
      },
      "source": [
        "import numpy as np\n",
        "import pandas as pd\n",
        "import matplotlib.pyplot as plt"
      ],
      "execution_count": 1,
      "outputs": []
    },
    {
      "cell_type": "code",
      "metadata": {
        "colab": {
          "base_uri": "https://localhost:8080/"
        },
        "id": "6te7I-1vJJ-z",
        "outputId": "8e4eb4af-dc02-4581-a7fa-21cd34789cd1"
      },
      "source": [
        "ls"
      ],
      "execution_count": 2,
      "outputs": [
        {
          "output_type": "stream",
          "name": "stdout",
          "text": [
            "data.csv  \u001b[0m\u001b[01;34msample_data\u001b[0m/\n"
          ]
        }
      ]
    },
    {
      "cell_type": "code",
      "metadata": {
        "id": "qpoXjeaoKUSD"
      },
      "source": [
        "data = pd.read_csv('data.csv')"
      ],
      "execution_count": 3,
      "outputs": []
    },
    {
      "cell_type": "code",
      "metadata": {
        "colab": {
          "base_uri": "https://localhost:8080/"
        },
        "id": "GlHUsfPnKa3y",
        "outputId": "ff066604-38f2-4c45-befa-f22306ea3c98"
      },
      "source": [
        "print(data.shape)"
      ],
      "execution_count": 4,
      "outputs": [
        {
          "output_type": "stream",
          "name": "stdout",
          "text": [
            "(5, 4)\n"
          ]
        }
      ]
    },
    {
      "cell_type": "code",
      "metadata": {
        "colab": {
          "base_uri": "https://localhost:8080/"
        },
        "id": "jFWCBdqiKc_J",
        "outputId": "a69e7efc-b7d3-43f3-ba70-d4b7dfc94697"
      },
      "source": [
        "print(data.head())"
      ],
      "execution_count": 5,
      "outputs": [
        {
          "output_type": "stream",
          "name": "stdout",
          "text": [
            "   Gender  Age_Range  Head_Size  Brain_Weight\n",
            "0       1          1       4512          1530\n",
            "1       1          1       3738          1297\n",
            "2       1          1       4261          1335\n",
            "3       1          1       3777          1282\n",
            "4       1          1       4177          1590\n"
          ]
        }
      ]
    },
    {
      "cell_type": "code",
      "metadata": {
        "id": "SRoNsS7zKi1l"
      },
      "source": [
        "X = data['Head_Size'].values"
      ],
      "execution_count": 9,
      "outputs": []
    },
    {
      "cell_type": "code",
      "metadata": {
        "id": "KmF7LcXbK0M4"
      },
      "source": [
        "Y = data['Brain_Weight'].values"
      ],
      "execution_count": 10,
      "outputs": []
    },
    {
      "cell_type": "code",
      "metadata": {
        "id": "XaRclHtDK0jX"
      },
      "source": [
        "mean_x = np.mean(X)\n",
        "mean_y = np.mean(Y)"
      ],
      "execution_count": 11,
      "outputs": []
    },
    {
      "cell_type": "code",
      "metadata": {
        "id": "GpXtGLiuLDO5"
      },
      "source": [
        "n = len(X)"
      ],
      "execution_count": 12,
      "outputs": []
    },
    {
      "cell_type": "code",
      "metadata": {
        "id": "FS7WHVfuLE7I"
      },
      "source": [
        "numer = 0\n",
        "denom = 0"
      ],
      "execution_count": 13,
      "outputs": []
    },
    {
      "cell_type": "code",
      "metadata": {
        "id": "bobudL-lLJ__"
      },
      "source": [
        "for i in range(n):\n",
        "  numer+=(X[i]-mean_x)*(Y[i]-mean_y)\n",
        "  denom+=(X[i]-mean_x)**2\n",
        "  m = numer/denom\n",
        "  c = mean_y - (m*mean_x)"
      ],
      "execution_count": 14,
      "outputs": []
    },
    {
      "cell_type": "code",
      "metadata": {
        "colab": {
          "base_uri": "https://localhost:8080/"
        },
        "id": "wEAUwsoxLpmk",
        "outputId": "492363c7-20d1-4567-fbce-e96241d52cd1"
      },
      "source": [
        "m"
      ],
      "execution_count": 15,
      "outputs": [
        {
          "output_type": "execute_result",
          "data": {
            "text/plain": [
              "0.3053727542922042"
            ]
          },
          "metadata": {},
          "execution_count": 15
        }
      ]
    },
    {
      "cell_type": "code",
      "metadata": {
        "colab": {
          "base_uri": "https://localhost:8080/"
        },
        "id": "4znDUNw1LqO0",
        "outputId": "ffd4f130-0aeb-4c73-8877-0060f32ef296"
      },
      "source": [
        "c"
      ],
      "execution_count": 16,
      "outputs": [
        {
          "output_type": "execute_result",
          "data": {
            "text/plain": [
              "156.90931668200824"
            ]
          },
          "metadata": {},
          "execution_count": 16
        }
      ]
    },
    {
      "cell_type": "code",
      "metadata": {
        "id": "rDuSp_jYLqf2"
      },
      "source": [
        "max_x = np.max(X) + 100\n",
        "min_x = np.min(X) - 100"
      ],
      "execution_count": 17,
      "outputs": []
    },
    {
      "cell_type": "code",
      "metadata": {
        "id": "n4L9WHlyMBXS"
      },
      "source": [
        "x = np.linspace(min_x, max_x,1000)"
      ],
      "execution_count": 18,
      "outputs": []
    },
    {
      "cell_type": "code",
      "metadata": {
        "id": "z2EXCJHmMHiO"
      },
      "source": [
        "y = c + m*x"
      ],
      "execution_count": 19,
      "outputs": []
    },
    {
      "cell_type": "code",
      "metadata": {
        "colab": {
          "base_uri": "https://localhost:8080/",
          "height": 284
        },
        "id": "8E8bp7t1MLIk",
        "outputId": "89462ae4-65c8-43c4-dc54-ee0e0464c022"
      },
      "source": [
        "plt.plot(x,y)\n",
        "plt.scatter(X,Y,c='r')\n",
        "plt.scatter(4500,yat4500,c='b')"
      ],
      "execution_count": 24,
      "outputs": [
        {
          "output_type": "execute_result",
          "data": {
            "text/plain": [
              "<matplotlib.collections.PathCollection at 0x7f8427147410>"
            ]
          },
          "metadata": {},
          "execution_count": 24
        },
        {
          "output_type": "display_data",
          "data": {
            "image/png": "[encoded data removed]",
            "text/plain": [
              "<Figure size 432x288 with 1 Axes>"
            ]
          },
          "metadata": {
            "needs_background": "light"
          }
        }
      ]
    },
    {
      "cell_type": "code",
      "metadata": {
        "id": "Ilxrn2p2MSnQ"
      },
      "source": [
        "yat4500 = c + m*(4500)"
      ],
      "execution_count": 23,
      "outputs": []
    },
    {
      "cell_type": "code",
      "metadata": {
        "id": "nwtvS9q7M3Fr"
      },
      "source": [
        "import matplotlib.pyplot as plt\n",
        "from scipy import stats\n",
        "X = [5,7,8,7,2,17,2,9,4,11,12,9,6]\n",
        "Y = [99,86,87,88,111,86,103,87,94,78,77,85,86]"
      ],
      "execution_count": 25,
      "outputs": []
    },
    {
      "cell_type": "code",
      "metadata": {
        "id": "ODr8_BP3OC2_"
      },
      "source": [
        "slope, intercept, r, p, std_err = stats.linregress(X,Y)"
      ],
      "execution_count": 28,
      "outputs": []
    },
    {
      "cell_type": "code",
      "metadata": {
        "id": "mXRTorvGOQZz"
      },
      "source": [
        "def myfunc(x):\n",
        "  return slope*x + intercept"
      ],
      "execution_count": 29,
      "outputs": []
    },
    {
      "cell_type": "code",
      "metadata": {
        "id": "85FQMdYnOWEC"
      },
      "source": [
        "mymodel = list(map(myfunc, X))"
      ],
      "execution_count": 34,
      "outputs": []
    },
    {
      "cell_type": "code",
      "metadata": {
        "colab": {
          "base_uri": "https://localhost:8080/"
        },
        "id": "1GsBRo4DO4gC",
        "outputId": "a607be3a-26f8-4935-9899-92ccd8846803"
      },
      "source": [
        "mymodel"
      ],
      "execution_count": 36,
      "outputs": [
        {
          "output_type": "execute_result",
          "data": {
            "text/plain": [
              "[94.3495217071376,\n",
              " 90.84694628403238,\n",
              " 89.09565857247976,\n",
              " 90.84694628403238,\n",
              " 99.60338484179543,\n",
              " 73.33406916850626,\n",
              " 99.60338484179543,\n",
              " 87.34437086092716,\n",
              " 96.10080941869022,\n",
              " 83.84179543782193,\n",
              " 82.09050772626932,\n",
              " 87.34437086092716,\n",
              " 92.59823399558499]"
            ]
          },
          "metadata": {},
          "execution_count": 36
        }
      ]
    },
    {
      "cell_type": "code",
      "metadata": {
        "colab": {
          "base_uri": "https://localhost:8080/",
          "height": 282
        },
        "id": "lLkMwnXnOcW-",
        "outputId": "69214c50-dc12-4af3-a460-35aa63196f24"
      },
      "source": [
        "plt.scatter(X,Y)\n",
        "plt.plot(X, mymodel)"
      ],
      "execution_count": 35,
      "outputs": [
        {
          "output_type": "execute_result",
          "data": {
            "text/plain": [
              "[<matplotlib.lines.Line2D at 0x7f8418c6c390>]"
            ]
          },
          "metadata": {},
          "execution_count": 35
        },
        {
          "output_type": "display_data",
          "data": {
            "image/png": "[encoded data removed]",
            "text/plain": [
              "<Figure size 432x288 with 1 Axes>"
            ]
          },
          "metadata": {
            "needs_background": "light"
          }
        }
      ]
    },
    {
      "cell_type": "code",
      "metadata": {
        "id": "TamhFFacOf4L"
      },
      "source": [
        ""
      ],
      "execution_count": null,
      "outputs": []
    }
  ]
}